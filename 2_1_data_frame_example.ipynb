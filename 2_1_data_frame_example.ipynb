{
 "cells": [
  {
   "cell_type": "code",
   "execution_count": 1,
   "id": "b1ab6c17-4447-4099-8ce1-4d161da42597",
   "metadata": {},
   "outputs": [],
   "source": [
    "import pandas as pd"
   ]
  },
  {
   "cell_type": "code",
   "execution_count": 3,
   "id": "2b20c118-4103-4a06-9d24-388faab0e099",
   "metadata": {},
   "outputs": [],
   "source": [
    "people = {\n",
    "    \"first\": [\"Corney\", \"Jane\", \"Dima\"], \n",
    "    \"second\": [\"Spiler\", \"Doe\", \"Markow\"], \n",
    "    \"email\" : [\"ssd@\", \"sdfd@\", \"gbbhn@\"]\n",
    "}"
   ]
  },
  {
   "cell_type": "code",
   "execution_count": 4,
   "id": "aee14b66-489c-4f4b-8d70-6682ccaf406f",
   "metadata": {},
   "outputs": [
    {
     "data": {
      "text/html": [
       "<div>\n",
       "<style scoped>\n",
       "    .dataframe tbody tr th:only-of-type {\n",
       "        vertical-align: middle;\n",
       "    }\n",
       "\n",
       "    .dataframe tbody tr th {\n",
       "        vertical-align: top;\n",
       "    }\n",
       "\n",
       "    .dataframe thead th {\n",
       "        text-align: right;\n",
       "    }\n",
       "</style>\n",
       "<table border=\"1\" class=\"dataframe\">\n",
       "  <thead>\n",
       "    <tr style=\"text-align: right;\">\n",
       "      <th></th>\n",
       "      <th>first</th>\n",
       "      <th>second</th>\n",
       "      <th>email</th>\n",
       "    </tr>\n",
       "  </thead>\n",
       "  <tbody>\n",
       "    <tr>\n",
       "      <th>0</th>\n",
       "      <td>Corney</td>\n",
       "      <td>Spiler</td>\n",
       "      <td>ssd@</td>\n",
       "    </tr>\n",
       "    <tr>\n",
       "      <th>1</th>\n",
       "      <td>Jane</td>\n",
       "      <td>Doe</td>\n",
       "      <td>sdfd@</td>\n",
       "    </tr>\n",
       "    <tr>\n",
       "      <th>2</th>\n",
       "      <td>Dima</td>\n",
       "      <td>Markow</td>\n",
       "      <td>gbbhn@</td>\n",
       "    </tr>\n",
       "  </tbody>\n",
       "</table>\n",
       "</div>"
      ],
      "text/plain": [
       "    first  second   email\n",
       "0  Corney  Spiler    ssd@\n",
       "1    Jane     Doe   sdfd@\n",
       "2    Dima  Markow  gbbhn@"
      ]
     },
     "execution_count": 4,
     "metadata": {},
     "output_type": "execute_result"
    }
   ],
   "source": [
    "df = pd.DataFrame(people)\n",
    "df #DataFrame is a list of Series"
   ]
  },
  {
   "cell_type": "code",
   "execution_count": 7,
   "id": "5b84b4d0-8aa0-4fdf-af37-98df367c2782",
   "metadata": {},
   "outputs": [],
   "source": [
    "s = df[\"first\"] #to get access to the whole column -> return Series (list of date)"
   ]
  },
  {
   "cell_type": "code",
   "execution_count": 9,
   "id": "f6ef5a61-860c-4037-8a72-444c3fa74bd1",
   "metadata": {},
   "outputs": [
    {
     "data": {
      "text/plain": [
       "0    Corney\n",
       "1      Jane\n",
       "2      Dima\n",
       "Name: first, dtype: object"
      ]
     },
     "execution_count": 9,
     "metadata": {},
     "output_type": "execute_result"
    }
   ],
   "source": [
    "s"
   ]
  },
  {
   "cell_type": "code",
   "execution_count": 8,
   "id": "8d9fc6a4-18d7-4574-b8bd-f1b2a451ad25",
   "metadata": {},
   "outputs": [
    {
     "data": {
      "text/plain": [
       "pandas.core.series.Series"
      ]
     },
     "execution_count": 8,
     "metadata": {},
     "output_type": "execute_result"
    }
   ],
   "source": [
    "type(s)"
   ]
  },
  {
   "cell_type": "code",
   "execution_count": 10,
   "id": "dfc2c657-5535-4b7b-baff-ea4da1f8debf",
   "metadata": {},
   "outputs": [
    {
     "data": {
      "text/plain": [
       "0      ssd@\n",
       "1     sdfd@\n",
       "2    gbbhn@\n",
       "Name: email, dtype: object"
      ]
     },
     "execution_count": 10,
     "metadata": {},
     "output_type": "execute_result"
    }
   ],
   "source": [
    "df.email #the same result"
   ]
  },
  {
   "cell_type": "code",
   "execution_count": 13,
   "id": "a91d0084-3f10-4a5a-baee-ba0610beb292",
   "metadata": {},
   "outputs": [
    {
     "data": {
      "text/html": [
       "<div>\n",
       "<style scoped>\n",
       "    .dataframe tbody tr th:only-of-type {\n",
       "        vertical-align: middle;\n",
       "    }\n",
       "\n",
       "    .dataframe tbody tr th {\n",
       "        vertical-align: top;\n",
       "    }\n",
       "\n",
       "    .dataframe thead th {\n",
       "        text-align: right;\n",
       "    }\n",
       "</style>\n",
       "<table border=\"1\" class=\"dataframe\">\n",
       "  <thead>\n",
       "    <tr style=\"text-align: right;\">\n",
       "      <th></th>\n",
       "      <th>first</th>\n",
       "      <th>second</th>\n",
       "    </tr>\n",
       "  </thead>\n",
       "  <tbody>\n",
       "    <tr>\n",
       "      <th>0</th>\n",
       "      <td>Corney</td>\n",
       "      <td>Spiler</td>\n",
       "    </tr>\n",
       "    <tr>\n",
       "      <th>1</th>\n",
       "      <td>Jane</td>\n",
       "      <td>Doe</td>\n",
       "    </tr>\n",
       "    <tr>\n",
       "      <th>2</th>\n",
       "      <td>Dima</td>\n",
       "      <td>Markow</td>\n",
       "    </tr>\n",
       "  </tbody>\n",
       "</table>\n",
       "</div>"
      ],
      "text/plain": [
       "    first  second\n",
       "0  Corney  Spiler\n",
       "1    Jane     Doe\n",
       "2    Dima  Markow"
      ]
     },
     "execution_count": 13,
     "metadata": {},
     "output_type": "execute_result"
    }
   ],
   "source": [
    "df[[\"first\", \"second\"]] #multiple comumns"
   ]
  },
  {
   "cell_type": "code",
   "execution_count": 14,
   "id": "21c12b40-a2d8-4fd1-92d8-6a4c58bc8ed5",
   "metadata": {},
   "outputs": [
    {
     "data": {
      "text/plain": [
       "Index(['first', 'second', 'email'], dtype='object')"
      ]
     },
     "execution_count": 14,
     "metadata": {},
     "output_type": "execute_result"
    }
   ],
   "source": [
    "df.columns #-> list of column's names"
   ]
  },
  {
   "cell_type": "code",
   "execution_count": 15,
   "id": "5b54c4f9-e2ff-49a2-b4ca-f07c19ab12de",
   "metadata": {},
   "outputs": [
    {
     "data": {
      "text/plain": [
       "first     Corney\n",
       "second    Spiler\n",
       "email       ssd@\n",
       "Name: 0, dtype: object"
      ]
     },
     "execution_count": 15,
     "metadata": {},
     "output_type": "execute_result"
    }
   ],
   "source": [
    "df.iloc[0] #integer location -> first row"
   ]
  },
  {
   "cell_type": "code",
   "execution_count": 16,
   "id": "c12572e6-d201-41f6-9a44-5e9bd8a96624",
   "metadata": {},
   "outputs": [
    {
     "data": {
      "text/html": [
       "<div>\n",
       "<style scoped>\n",
       "    .dataframe tbody tr th:only-of-type {\n",
       "        vertical-align: middle;\n",
       "    }\n",
       "\n",
       "    .dataframe tbody tr th {\n",
       "        vertical-align: top;\n",
       "    }\n",
       "\n",
       "    .dataframe thead th {\n",
       "        text-align: right;\n",
       "    }\n",
       "</style>\n",
       "<table border=\"1\" class=\"dataframe\">\n",
       "  <thead>\n",
       "    <tr style=\"text-align: right;\">\n",
       "      <th></th>\n",
       "      <th>first</th>\n",
       "      <th>second</th>\n",
       "      <th>email</th>\n",
       "    </tr>\n",
       "  </thead>\n",
       "  <tbody>\n",
       "    <tr>\n",
       "      <th>0</th>\n",
       "      <td>Corney</td>\n",
       "      <td>Spiler</td>\n",
       "      <td>ssd@</td>\n",
       "    </tr>\n",
       "    <tr>\n",
       "      <th>2</th>\n",
       "      <td>Dima</td>\n",
       "      <td>Markow</td>\n",
       "      <td>gbbhn@</td>\n",
       "    </tr>\n",
       "  </tbody>\n",
       "</table>\n",
       "</div>"
      ],
      "text/plain": [
       "    first  second   email\n",
       "0  Corney  Spiler    ssd@\n",
       "2    Dima  Markow  gbbhn@"
      ]
     },
     "execution_count": 16,
     "metadata": {},
     "output_type": "execute_result"
    }
   ],
   "source": [
    "df.iloc[[0, 2]] #-> dataframe of multiple rows"
   ]
  },
  {
   "cell_type": "code",
   "execution_count": 18,
   "id": "cad92338-1a1f-4335-8e27-8870d428eb97",
   "metadata": {},
   "outputs": [
    {
     "data": {
      "text/plain": [
       "0      ssd@\n",
       "2    gbbhn@\n",
       "Name: email, dtype: object"
      ]
     },
     "execution_count": 18,
     "metadata": {},
     "output_type": "execute_result"
    }
   ],
   "source": [
    "df.iloc[[0, 2], 2] #to get 2 column of two rows (iloc accepts only integers as indexes)"
   ]
  },
  {
   "cell_type": "code",
   "execution_count": 19,
   "id": "44cd6bde-30ca-413c-a0c7-49174ba63fdf",
   "metadata": {},
   "outputs": [
    {
     "data": {
      "text/html": [
       "<div>\n",
       "<style scoped>\n",
       "    .dataframe tbody tr th:only-of-type {\n",
       "        vertical-align: middle;\n",
       "    }\n",
       "\n",
       "    .dataframe tbody tr th {\n",
       "        vertical-align: top;\n",
       "    }\n",
       "\n",
       "    .dataframe thead th {\n",
       "        text-align: right;\n",
       "    }\n",
       "</style>\n",
       "<table border=\"1\" class=\"dataframe\">\n",
       "  <thead>\n",
       "    <tr style=\"text-align: right;\">\n",
       "      <th></th>\n",
       "      <th>first</th>\n",
       "      <th>second</th>\n",
       "      <th>email</th>\n",
       "    </tr>\n",
       "  </thead>\n",
       "  <tbody>\n",
       "    <tr>\n",
       "      <th>0</th>\n",
       "      <td>Corney</td>\n",
       "      <td>Spiler</td>\n",
       "      <td>ssd@</td>\n",
       "    </tr>\n",
       "    <tr>\n",
       "      <th>1</th>\n",
       "      <td>Jane</td>\n",
       "      <td>Doe</td>\n",
       "      <td>sdfd@</td>\n",
       "    </tr>\n",
       "    <tr>\n",
       "      <th>2</th>\n",
       "      <td>Dima</td>\n",
       "      <td>Markow</td>\n",
       "      <td>gbbhn@</td>\n",
       "    </tr>\n",
       "  </tbody>\n",
       "</table>\n",
       "</div>"
      ],
      "text/plain": [
       "    first  second   email\n",
       "0  Corney  Spiler    ssd@\n",
       "1    Jane     Doe   sdfd@\n",
       "2    Dima  Markow  gbbhn@"
      ]
     },
     "execution_count": 19,
     "metadata": {},
     "output_type": "execute_result"
    }
   ],
   "source": [
    "df"
   ]
  },
  {
   "cell_type": "code",
   "execution_count": 20,
   "id": "e5efb95f-30e4-4a1e-b8f8-b90400c0ca10",
   "metadata": {},
   "outputs": [
    {
     "data": {
      "text/plain": [
       "first     Corney\n",
       "second    Spiler\n",
       "email       ssd@\n",
       "Name: 0, dtype: object"
      ]
     },
     "execution_count": 20,
     "metadata": {},
     "output_type": "execute_result"
    }
   ],
   "source": [
    "df.loc[0] #->first row"
   ]
  },
  {
   "cell_type": "code",
   "execution_count": 21,
   "id": "f9ba5f91-39c5-4dae-a196-6042ba187642",
   "metadata": {},
   "outputs": [
    {
     "data": {
      "text/html": [
       "<div>\n",
       "<style scoped>\n",
       "    .dataframe tbody tr th:only-of-type {\n",
       "        vertical-align: middle;\n",
       "    }\n",
       "\n",
       "    .dataframe tbody tr th {\n",
       "        vertical-align: top;\n",
       "    }\n",
       "\n",
       "    .dataframe thead th {\n",
       "        text-align: right;\n",
       "    }\n",
       "</style>\n",
       "<table border=\"1\" class=\"dataframe\">\n",
       "  <thead>\n",
       "    <tr style=\"text-align: right;\">\n",
       "      <th></th>\n",
       "      <th>first</th>\n",
       "      <th>second</th>\n",
       "      <th>email</th>\n",
       "    </tr>\n",
       "  </thead>\n",
       "  <tbody>\n",
       "    <tr>\n",
       "      <th>1</th>\n",
       "      <td>Jane</td>\n",
       "      <td>Doe</td>\n",
       "      <td>sdfd@</td>\n",
       "    </tr>\n",
       "    <tr>\n",
       "      <th>2</th>\n",
       "      <td>Dima</td>\n",
       "      <td>Markow</td>\n",
       "      <td>gbbhn@</td>\n",
       "    </tr>\n",
       "  </tbody>\n",
       "</table>\n",
       "</div>"
      ],
      "text/plain": [
       "  first  second   email\n",
       "1  Jane     Doe   sdfd@\n",
       "2  Dima  Markow  gbbhn@"
      ]
     },
     "execution_count": 21,
     "metadata": {},
     "output_type": "execute_result"
    }
   ],
   "source": [
    "df.loc[[1, 2]]"
   ]
  },
  {
   "cell_type": "code",
   "execution_count": 22,
   "id": "5f3e8bf8-7014-4273-91c7-d233601cb9f7",
   "metadata": {},
   "outputs": [
    {
     "data": {
      "text/plain": [
       "1       Doe\n",
       "2    Markow\n",
       "Name: second, dtype: object"
      ]
     },
     "execution_count": 22,
     "metadata": {},
     "output_type": "execute_result"
    }
   ],
   "source": [
    "df.loc[[1, 2], \"second\"] #get second name from two columns"
   ]
  },
  {
   "cell_type": "code",
   "execution_count": 23,
   "id": "f0a5ca15-4c7e-4064-98a6-def82f4500ad",
   "metadata": {},
   "outputs": [
    {
     "data": {
      "text/html": [
       "<div>\n",
       "<style scoped>\n",
       "    .dataframe tbody tr th:only-of-type {\n",
       "        vertical-align: middle;\n",
       "    }\n",
       "\n",
       "    .dataframe tbody tr th {\n",
       "        vertical-align: top;\n",
       "    }\n",
       "\n",
       "    .dataframe thead th {\n",
       "        text-align: right;\n",
       "    }\n",
       "</style>\n",
       "<table border=\"1\" class=\"dataframe\">\n",
       "  <thead>\n",
       "    <tr style=\"text-align: right;\">\n",
       "      <th></th>\n",
       "      <th>first</th>\n",
       "      <th>second</th>\n",
       "    </tr>\n",
       "  </thead>\n",
       "  <tbody>\n",
       "    <tr>\n",
       "      <th>1</th>\n",
       "      <td>Jane</td>\n",
       "      <td>Doe</td>\n",
       "    </tr>\n",
       "    <tr>\n",
       "      <th>2</th>\n",
       "      <td>Dima</td>\n",
       "      <td>Markow</td>\n",
       "    </tr>\n",
       "  </tbody>\n",
       "</table>\n",
       "</div>"
      ],
      "text/plain": [
       "  first  second\n",
       "1  Jane     Doe\n",
       "2  Dima  Markow"
      ]
     },
     "execution_count": 23,
     "metadata": {},
     "output_type": "execute_result"
    }
   ],
   "source": [
    "df.loc[[1, 2], [\"first\", \"second\"]] #-> first and second name for 2 rows"
   ]
  },
  {
   "cell_type": "code",
   "execution_count": null,
   "id": "82f4a6f5-ab3a-4715-ab10-64d5dca1a321",
   "metadata": {},
   "outputs": [],
   "source": []
  }
 ],
 "metadata": {
  "kernelspec": {
   "display_name": "Python 3 (ipykernel)",
   "language": "python",
   "name": "python3"
  },
  "language_info": {
   "codemirror_mode": {
    "name": "ipython",
    "version": 3
   },
   "file_extension": ".py",
   "mimetype": "text/x-python",
   "name": "python",
   "nbconvert_exporter": "python",
   "pygments_lexer": "ipython3",
   "version": "3.13.0"
  }
 },
 "nbformat": 4,
 "nbformat_minor": 5
}
